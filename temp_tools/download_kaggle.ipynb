{
 "cells": [
  {
   "cell_type": "code",
   "execution_count": 2,
   "id": "a3f5e861",
   "metadata": {},
   "outputs": [
    {
     "data": {
      "text/plain": [
       "True"
      ]
     },
     "execution_count": 2,
     "metadata": {},
     "output_type": "execute_result"
    }
   ],
   "source": [
    "from dotenv import load_dotenv\n",
    "import os\n",
    "\n",
    "# load the dotenv file\n",
    "load_dotenv()"
   ]
  },
  {
   "cell_type": "code",
   "execution_count": 3,
   "id": "72328c76",
   "metadata": {},
   "outputs": [],
   "source": [
    "# Set Kaggle environment variables\n",
    "os.environ['KAGGLE_USERNAME'] = os.getenv('KAGGLE_USERNAME')\n",
    "os.environ['KAGGLE_KEY'] = os.getenv('KAGGLE_KEY')"
   ]
  },
  {
   "cell_type": "code",
   "execution_count": 6,
   "id": "64750350",
   "metadata": {},
   "outputs": [
    {
     "name": "stdout",
     "output_type": "stream",
     "text": [
      "Configuration values from C:\\Users\\mores\\.kaggle\n",
      "- username: morescope\n",
      "- path: None\n",
      "- proxy: None\n",
      "- competition: None\n"
     ]
    }
   ],
   "source": [
    "!kaggle config view"
   ]
  },
  {
   "cell_type": "code",
   "execution_count": 5,
   "id": "6efc170f",
   "metadata": {},
   "outputs": [
    {
     "name": "stdout",
     "output_type": "stream",
     "text": [
      "name                                      size  creationDate                \n",
      "-----------------------------------  ---------  --------------------------  \n",
      "output/predictions_dict_master.json  421955319  2025-07-08 17:16:36.977000  \n",
      "ur_test_medias_prod.csv               45547991  2025-07-08 17:16:32.173000  \n",
      "ur_test_medias_prod_filtered.csv       5920394  2025-07-08 17:16:31.454000  \n"
     ]
    }
   ],
   "source": [
    "!kaggle datasets files -d morescope/ur-speciesnet-persistent"
   ]
  },
  {
   "cell_type": "code",
   "execution_count": null,
   "id": "686f4b5a",
   "metadata": {},
   "outputs": [],
   "source": []
  },
  {
   "cell_type": "code",
   "execution_count": 7,
   "id": "5fdd22ae",
   "metadata": {},
   "outputs": [
    {
     "name": "stdout",
     "output_type": "stream",
     "text": [
      "Dataset URL: https://www.kaggle.com/datasets/morescope/ur-speciesnet-persistent\n",
      "License(s): unknown\n",
      "404 Client Error: Not Found for url: https://www.kaggle.com/api/v1/datasets/download/morescope/ur-speciesnet-persistent/output/predictions_dict_master.json?filename=output%2Fpredictions_dict_master.json&raw=false\n"
     ]
    }
   ],
   "source": [
    "!kaggle datasets download -d morescope/ur-speciesnet-persistent -f output/predictions_dict_master.json"
   ]
  }
 ],
 "metadata": {
  "kernelspec": {
   "display_name": "kaggle",
   "language": "python",
   "name": "python3"
  },
  "language_info": {
   "codemirror_mode": {
    "name": "ipython",
    "version": 3
   },
   "file_extension": ".py",
   "mimetype": "text/x-python",
   "name": "python",
   "nbconvert_exporter": "python",
   "pygments_lexer": "ipython3",
   "version": "3.12.9"
  }
 },
 "nbformat": 4,
 "nbformat_minor": 5
}
